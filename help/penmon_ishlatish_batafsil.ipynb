{
 "cells": [
  {
   "cell_type": "markdown",
   "metadata": {},
   "source": [
<<<<<<< HEAD
    "# penmon.eto МОДУЛИНИ ИШЛАТИШ ЙЎРИҚНОМАСИ\n",
    "\n",
    "**penmon.eto** модули ФАОнинг йўриқномасига асосланган ҳолда эталон эвапотранспирацияни хисоблашимизга имкон беради. Бу модулда ФАОнинг йўриғидаги барча алгоритмга қатъий бўйсунишга ҳаракат қилинди.\n",
    "\n",
    "## ЎРНАТИШ\n",
=======
    "# penmon.eto модулини ишлатиш йўриқномаси\n",
>>>>>>> 7ff8a74470d67949566b7e8e300441cd50fdf32a
    "\n",
    "Аввалига компьютер ёки серверга **penmon** модулини ўрнатасиз. Буни \"pip\" коммандасидан фойдаланган ҳолда ўрнатишингиз мумкун:\n",
    "\n",
    "    % pip install penmon\n",
    "    \n",
<<<<<<< HEAD
    "Сўнг модульни  импорт қиламиз:\n"
=======
    "Сўнг модульни дастурга импорт қиламиз:\n"
>>>>>>> 7ff8a74470d67949566b7e8e300441cd50fdf32a
   ]
  },
  {
   "cell_type": "code",
<<<<<<< HEAD
   "execution_count": 68,
   "metadata": {},
   "outputs": [],
   "source": [
    "import penmon.eto as pm, math\n",
    "\n",
    "station = pm.Station(41.37, 253)\n",
    "\n",
    "day=station.get_day(\"2020-07-04\")"
   ]
  },
  {
   "cell_type": "code",
   "execution_count": 65,
   "metadata": {},
   "outputs": [
    {
     "data": {
      "text/plain": [
       "737.25"
      ]
     },
     "execution_count": 65,
     "metadata": {},
     "output_type": "execute_result"
    }
   ],
   "source": [
    "day.atmospheric_pressure()*7.50"
=======
   "execution_count": 3,
   "metadata": {},
   "outputs": [],
   "source": [
    "import penmon.eto as pm\n",
    "import math"
   ]
  },
  {
   "cell_type": "markdown",
   "metadata": {},
   "source": [
    "# Станция яратиш\n",
    "\n",
    "Биринчи ўринда виртуал обҳаво станцияси яратамиз. Станциянинг (аниқроғи, экин майдонининг) нечинчи параллельда жойлашгани, ва денгиз сатҳидан баландлигини аниқлашимиз шарт. Бу маълумотсиз ҳеч бир ҳисоб китобни амалга оширишнигн имкони бўлмайди. \n",
    "\n",
    "Қуйида 41.42-параллельда жойлашган, денгиз сатхидан 110 метр баландликда бўлган экин майдонини таърифлаяпмиз:"
>>>>>>> 7ff8a74470d67949566b7e8e300441cd50fdf32a
   ]
  },
  {
   "cell_type": "code",
<<<<<<< HEAD
   "execution_count": 66,
   "metadata": {},
   "outputs": [
    {
     "data": {
      "text/plain": [
       "14.9"
      ]
     },
     "execution_count": 66,
     "metadata": {},
     "output_type": "execute_result"
    }
   ],
   "source": [
    "day.daylight_hours()"
   ]
  },
  {
   "cell_type": "code",
   "execution_count": 69,
   "metadata": {},
   "outputs": [
    {
     "data": {
      "text/plain": [
       "111.66947427099744"
      ]
     },
     "execution_count": 69,
     "metadata": {},
     "output_type": "execute_result"
    }
   ],
   "source": [
    "day.sunset_hour_angle()*180/math.pi"
=======
   "execution_count": 4,
   "metadata": {},
   "outputs": [],
   "source": [
    "station=pm.Station(41.42, 110)"
   ]
  },
  {
   "cell_type": "markdown",
   "metadata": {},
   "source": [
    "\"Станция\"ни таърифлагач, энди биз қайси кун билан ишлашимизни аниқланишимиз керак. Чунки бу маълумотсиз кун узунлиги, максимал Қуёш радиацияси миқдори ва Қуёшнинг бурчаги ҳақида маълумотга эга бўлишимиз мумкун эмас. \n",
    "\n",
    "Бундан келиб чиқадики, бир хил обҳаво кўрсаткичлари турли кунларда кузатилса, табиийки турли Қуёш радиацияси, ва турли эвапотранспирация қайд қилинади. Масалан, қуйида биз 238-кундаги (26-Август) эвапотранспирацияни ҳисобламоқчимиз:"
>>>>>>> 7ff8a74470d67949566b7e8e300441cd50fdf32a
   ]
  },
  {
   "cell_type": "code",
<<<<<<< HEAD
   "execution_count": 71,
   "metadata": {},
   "outputs": [
    {
     "data": {
      "text/plain": [
       "22.746424466693686"
      ]
     },
     "execution_count": 71,
     "metadata": {},
     "output_type": "execute_result"
    }
   ],
   "source": [
    "day.solar_declination()*180/math.pi"
   ]
  },
  {
   "cell_type": "code",
   "execution_count": 74,
   "metadata": {},
   "outputs": [
    {
     "data": {
      "text/plain": [
       "0.967"
      ]
     },
     "execution_count": 74,
     "metadata": {},
     "output_type": "execute_result"
    }
   ],
   "source": [
    "day.relative_sun_distance()"
=======
   "execution_count": 5,
   "metadata": {},
   "outputs": [],
   "source": [
    "day_238 = station.get_day(\"2020-08-26\")"
   ]
  },
  {
   "cell_type": "markdown",
   "metadata": {},
   "source": [
    "# Ҳозир қандай хулоса чиқариш мумкун?\n",
    "\n",
    "Албатта биз ҳали эвапотранспирацияни ҳисоблашимиз учун етарлича маълумотга эга эмасмиз. Биз ҳозирча маконни ва замонни биламиз ҳолос. Аммо шу маълумотнинг ўзи бизга макон ҳақида кўплаб фойдали маълумотларни беради. Бу Пенман-Монтит методикасининг энг қимматли жиҳатларидан биридир. \n",
    "\n",
    "## Дедуктив маълумотлари\n",
    "\n",
    "Айнан шу макон ва шу санада (26 август куни) жуда кўп маълумотларга дедуктив усулда эга бўлишимиз мумкун. Масалан, қуйида шуларга мисолларни келтираман:"
>>>>>>> 7ff8a74470d67949566b7e8e300441cd50fdf32a
   ]
  },
  {
   "cell_type": "code",
<<<<<<< HEAD
   "execution_count": 76,
   "metadata": {},
   "outputs": [
    {
     "data": {
      "text/plain": [
       "41.5"
      ]
     },
     "execution_count": 76,
     "metadata": {},
     "output_type": "execute_result"
    }
   ],
   "source": [
    "day.R_a()"
=======
   "execution_count": 6,
   "metadata": {},
   "outputs": [
    {
     "name": "stdout",
     "output_type": "stream",
     "text": [
      "Куннинг узунлиги  13.1 соатни ташкил қилди\n",
      "Қуёш ва Ер орасидаги нисбий масофа 0.981 ни ташкил қилган.\n",
      "Бу санада Қуёшг экваторга нисбатан 0.166 радиан, ёки, 9.5 градус бурчак остида бўлган\n",
      "Шу куни Қуёш радиацияси 25.4 MJ/m2/кун ни ташкил қилган... хаво булутсиз бўлган деб таҳмин қилсак, албатта\n",
      "Эталон экин қабул қилган радиация эса 19.6 MJ/m2/кунни ташкил қилган\n",
      "Қуёш ботиш соатидаги бурчак эса 1.719 радиан бўлган\n"
     ]
    }
   ],
   "source": [
    "print(\"Куннинг узунлиги \", day_238.daylight_hours(), \"соатни ташкил қилди\")\n",
    "print(\"Қуёш ва Ер орасидаги нисбий масофа\", day_238.relative_sun_distance(), \"ни ташкил қилган.\")\n",
    "print(\"Бу санада Қуёшг экваторга нисбатан\", day_238.solar_declination(), \"радиан, ёки,\",\n",
    "      round((day_238.solar_declination()*180)/math.pi, 1), \"градус бурчак остида бўлган\")\n",
    "print(\"Шу куни Қуёш радиацияси\", day_238.solar_radiation(), \n",
    "      \"MJ/m2/кун ни ташкил қилган... хаво булутсиз бўлган деб таҳмин қилсак, албатта\")\n",
    "print(\"Эталон экин қабул қилган радиация эса\", day_238.R_ns(), \"MJ/m2/кунни ташкил қилган\")\n",
    "print(\"Қуёш ботиш соатидаги бурчак эса\", day_238.sunset_hour_angle(), \"радиан бўлган\")\n"
>>>>>>> 7ff8a74470d67949566b7e8e300441cd50fdf32a
   ]
  },
  {
   "cell_type": "code",
<<<<<<< HEAD
   "execution_count": 77,
=======
   "execution_count": 7,
>>>>>>> 7ff8a74470d67949566b7e8e300441cd50fdf32a
   "metadata": {},
   "outputs": [
    {
     "data": {
      "text/plain": [
<<<<<<< HEAD
       "31.1"
      ]
     },
     "execution_count": 77,
=======
       "1.571"
      ]
     },
     "execution_count": 7,
>>>>>>> 7ff8a74470d67949566b7e8e300441cd50fdf32a
     "metadata": {},
     "output_type": "execute_result"
    }
   ],
   "source": [
<<<<<<< HEAD
    "day.solar_radiation()"
   ]
  },
  {
   "cell_type": "code",
   "execution_count": 121,
   "metadata": {},
   "outputs": [
    {
     "data": {
      "text/plain": [
       "10.9"
      ]
     },
     "execution_count": 121,
     "metadata": {},
     "output_type": "execute_result"
    }
   ],
   "source": [
    "day.solar_radiation_in_mm()"
=======
    "station=pm.Station(0.00, 0)\n",
    "day_238=station.get_day(238)\n",
    "day_238.sunset_hour_angle()"
   ]
  },
  {
   "cell_type": "markdown",
   "metadata": {},
   "source": [
    "## Қуёш радиацияси\n",
    "\n",
    "Ясси юзага тушган Қуёш радиациясини ҳам ҳисоблашимиз мумкун экан. "
>>>>>>> 7ff8a74470d67949566b7e8e300441cd50fdf32a
   ]
  },
  {
   "cell_type": "code",
<<<<<<< HEAD
   "execution_count": 122,
   "metadata": {},
   "outputs": [
    {
     "data": {
      "text/plain": [
       "26.6"
      ]
     },
     "execution_count": 122,
     "metadata": {},
     "output_type": "execute_result"
    }
   ],
   "source": [
    "day.temp_min=19.5\n",
    "day.temp_max=35.6\n",
    "\n",
    "day.solar_radiation()"
=======
   "execution_count": 15,
   "metadata": {},
   "outputs": [
    {
     "name": "stdout",
     "output_type": "stream",
     "text": [
      "Шу куни Қуёш радиацияси 25.6 MJ/m2/кун ни ташкил қилган... хаво булутсиз бўлган деб таҳмин қилсак, албатта\n"
     ]
    }
   ],
   "source": [
    "print(\"Шу куни Қуёш радиацияси\", day_238.solar_radiation(), \n",
    "      \"MJ/m2/кун ни ташкил қилган... хаво булутсиз бўлган деб таҳмин қилсак, албатта\")"
>>>>>>> 7ff8a74470d67949566b7e8e300441cd50fdf32a
   ]
  }
 ],
 "metadata": {
  "kernelspec": {
   "display_name": "Python 3",
   "language": "python",
   "name": "python3"
  },
  "language_info": {
   "codemirror_mode": {
    "name": "ipython",
    "version": 3
   },
   "file_extension": ".py",
   "mimetype": "text/x-python",
   "name": "python",
   "nbconvert_exporter": "python",
   "pygments_lexer": "ipython3",
   "version": "3.8.5"
  }
 },
 "nbformat": 4,
 "nbformat_minor": 4
}
