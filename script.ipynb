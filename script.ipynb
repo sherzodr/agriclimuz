{
 "cells": [
  {
   "cell_type": "markdown",
   "metadata": {},
   "source": [
    "# Ўзбекистонда Эвапотранспирация"
   ]
  },
  {
   "cell_type": "code",
   "execution_count": 32,
   "metadata": {},
   "outputs": [
    {
     "name": "stdout",
     "output_type": "stream",
     "text": [
      "Processed  422 files\n"
     ]
    }
   ],
   "source": [
    "import pandas, glob, penmon.eto as pm\n",
    "\n",
    "def calculate_eto(col):\n",
    "    station = pm.Station(col[\"latitude\"], col[\"altitude\"])\n",
    "    day = station.get_day(col[\"date\"].strftime(\"%Y-%m-%d\"))\n",
    "    day.temp_min = col[\"temp_min\"]\n",
    "    day.temp_max = col[\"temp_max\"]\n",
    "    day.wind_speed=col[\"wind_speed\"]\n",
    "    day.humidity_mean=round(col[\"humidity_mean\"] * 100, 0)\n",
    "    day.radiation_s = col[\"solar_radiation\"]\n",
    "    return day.eto()\n",
    "\n",
    "all_csv_files = glob.glob(\"data/sourcedata/*.csv\")\n",
    "count = 0\n",
    "for csv_file in all_csv_files:\n",
    "    df = pandas.read_csv(csv_file, header=0,\n",
    "                         names=[\"date\", \"longitude\", \"latitude\", \"altitude\", \"temp_max\",\n",
    "                               \"temp_min\", \"precip\", \"wind_speed\",\"humidity_mean\", \"solar_radiation\", None], \n",
    "                        parse_dates=[0], index_col=None)\n",
    "    df[\"eto\"] = df.apply(calculate_eto, axis=1)\n",
    "    path=csv_file.split('\\\\')\n",
    "    df.to_csv(\"data/etodata/eto\"+path[1], index=False, \n",
    "              columns=[\"date\", \"latitude\", \"longitude\", \"altitude\", \"temp_min\", \"temp_max\",\n",
    "                      \"wind_speed\", \"humidity_mean\", \"solar_radiation\", \"eto\"])\n",
    "    count += 1\n",
    "print(\"Processed \", count, \"files\")"
   ]
  }
 ],
 "metadata": {
  "kernelspec": {
   "display_name": "Python 3",
   "language": "python",
   "name": "python3"
  },
  "language_info": {
   "codemirror_mode": {
    "name": "ipython",
    "version": 3
   },
   "file_extension": ".py",
   "mimetype": "text/x-python",
   "name": "python",
   "nbconvert_exporter": "python",
   "pygments_lexer": "ipython3",
   "version": "3.8.5"
  }
 },
 "nbformat": 4,
 "nbformat_minor": 4
}
